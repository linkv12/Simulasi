{
 "cells": [
  {
   "cell_type": "code",
   "execution_count": 1,
   "metadata": {},
   "outputs": [],
   "source": [
    "import numpy as np\n",
    "import math\n",
    "import matplotlib.pyplot as plt\n",
    "import tqdm"
   ]
  },
  {
   "cell_type": "code",
   "execution_count": null,
   "metadata": {},
   "outputs": [],
   "source": []
  },
  {
   "cell_type": "code",
   "execution_count": 2,
   "metadata": {},
   "outputs": [],
   "source": [
    "# init\n",
    "# l -> needle length\n",
    "l = 5\n",
    "\n",
    "# d -> paralel line distance\n",
    "d = 10\n",
    "\n",
    "# n -> number of random throw\n",
    "n = 10000\n",
    "\n",
    "# trial -> how many times it  tried\n",
    "trial = 5\n",
    "\n",
    "\n",
    "\n",
    "\n"
   ]
  },
  {
   "cell_type": "code",
   "execution_count": 3,
   "metadata": {},
   "outputs": [],
   "source": [
    "def run(l, d,n,trial) :\n",
    "    phi = []\n",
    "    for i in range(0, trial) :\n",
    "        z = 0\n",
    "        for j in range(0, n):\n",
    "            # angle of impact in degree\n",
    "            theta = np.random.rand() * 90\n",
    "            # x -> distance of needle from d\n",
    "            x = np.random.rand() * d\n",
    "            #print( x <= l * math.cos(math.radians(theta)))\n",
    "            if x <= l * math.cos(math.radians(theta)) :\n",
    "                z = z + 1\n",
    "        \n",
    "        #print(l, d, n, z)\n",
    "        t_phi = (2*l / d) * (n/(z + 10 ** -5))\n",
    "        phi.append(t_phi)\n",
    "    \n",
    "    return np.average(phi)\n",
    "            "
   ]
  },
  {
   "cell_type": "code",
   "execution_count": 4,
   "metadata": {},
   "outputs": [],
   "source": [
    "#print(run(l,d,n,trial))"
   ]
  },
  {
   "cell_type": "code",
   "execution_count": 5,
   "metadata": {},
   "outputs": [
    {
     "name": "stdout",
     "output_type": "stream",
     "text": [
      "[3.1586976379666476, 3.1557290604668813, 3.141580343870676, 3.1272419132578286, 3.1476881752717154, 3.144727545958363, 3.139839019717841, 3.1518476434535225, 3.138723388590067, 3.1501998819702486]\n"
     ]
    }
   ],
   "source": [
    "list_n = [1,2,3,4,5,6,7,8,9,10]\n",
    "list_n = np.array(list_n) * n\n",
    "phi = []\n",
    "for i in list_n :\n",
    "    phi.append(run(l,d,i,trial))\n",
    "    \n",
    "print(phi)"
   ]
  },
  {
   "cell_type": "code",
   "execution_count": 6,
   "metadata": {},
   "outputs": [
    {
     "name": "stdout",
     "output_type": "stream",
     "text": [
      "[ 10000  20000  30000  40000  50000  60000  70000  80000  90000 100000]\n"
     ]
    },
    {
     "data": {
      "text/plain": [
       "<Figure size 432x288 with 0 Axes>"
      ]
     },
     "metadata": {},
     "output_type": "display_data"
    },
    {
     "data": {
      "image/png": "[encoded data removed]",
      "text/plain": [
       "<Figure size 432x288 with 1 Axes>"
      ]
     },
     "metadata": {
      "needs_background": "light"
     },
     "output_type": "display_data"
    }
   ],
   "source": [
    "\n",
    "\n",
    "\n",
    "print(list_n)\n",
    "\n",
    "fig=plt.figure()\n",
    "\n",
    "\n",
    "fig = plt.figure()\n",
    "ax = fig.add_subplot()\n",
    "\n",
    "line, = ax.plot(list_n, phi, color='blue', lw=2)\n",
    "ax.axhline(y=3.14, xmin=0.0, xmax=1.0, color='r', label=\"phi\")\n",
    "ax.set_title('Buffon Needle')\n",
    "\n",
    "plt.xlabel('n')\n",
    "plt.ylabel('phi')\n",
    "\n",
    "plt.xlim(0, list_n[-1])\n",
    "\n",
    "plt.legend()\n",
    "\n",
    "plt.show()"
   ]
  }
 ],
 "metadata": {
  "kernelspec": {
   "display_name": "Python 3",
   "language": "python",
   "name": "python3"
  },
  "language_info": {
   "codemirror_mode": {
    "name": "ipython",
    "version": 3
   },
   "file_extension": ".py",
   "mimetype": "text/x-python",
   "name": "python",
   "nbconvert_exporter": "python",
   "pygments_lexer": "ipython3",
   "version": "3.7.4"
  }
 },
 "nbformat": 4,
 "nbformat_minor": 2
}
