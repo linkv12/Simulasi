{
 "cells": [
  {
   "cell_type": "code",
   "execution_count": 1,
   "metadata": {},
   "outputs": [],
   "source": [
    "import matplotlib.pyplot as plt\n",
    "import matplotlib.animation as animation\n",
    "import numpy as np\n",
    "import math"
   ]
  },
  {
   "cell_type": "code",
   "execution_count": 2,
   "metadata": {},
   "outputs": [],
   "source": [
    "def convert2Radian(degree) :\n",
    "    return (degree / 180)* (math.pi)\n",
    "\n",
    "def drawPlot() :\n",
    "    plt.plot(ana_posx_arr, ana_posy_arr, color=\"green\", label=\"analitik\")\n",
    "    plt.plot(num_posx_arr, num_posy_arr, color=\"orange\", label=\"numerik\")\n",
    "    plt.xlim(0-1,max(ana_posx_arr)+10)\n",
    "    plt.ylim(0,max(ana_posy_arr)+3)\n",
    "    plt.legend()\n",
    "    plt.show()"
   ]
  },
  {
   "cell_type": "code",
   "execution_count": 3,
   "metadata": {},
   "outputs": [
    {
     "name": "stdout",
     "output_type": "stream",
     "text": [
      "Initalize......\n"
     ]
    }
   ],
   "source": [
    "print (\"Initalize......\")\n",
    "\n",
    "alpha_angle = 60 # degree [not radiant]\n",
    "starting_pos = [0,0] # x, y\n",
    "starting_vel = 50 # mps\n",
    "time_step = 0.1\n",
    "gravity = -9.8\n"
   ]
  },
  {
   "cell_type": "code",
   "execution_count": 4,
   "metadata": {},
   "outputs": [
    {
     "name": "stdout",
     "output_type": "stream",
     "text": [
      "Numerik ...\n"
     ]
    }
   ],
   "source": [
    "print (\"Numerik ...\")\n",
    "time_arr = [0]\n",
    "# init starting vel _ devided\n",
    "num_velx_arr = [starting_vel * math.cos(convert2Radian(30))]\n",
    "num_vely_arr = [starting_vel * math.sin(convert2Radian(30))]\n",
    "\n",
    "# init pos, [x,y]\n",
    "num_posx_arr = [starting_pos[0]]\n",
    "num_posy_arr = [starting_pos[-1]]\n",
    "\n",
    "# stoppage\n",
    "stp_age = 0\n",
    "\n",
    "while (len(num_posy_arr) == 1 or stp_age >= 0) :\n",
    "    temp_time = time_arr[-1] + time_step\n",
    "    num_velx_temp = num_velx_arr[-1]\n",
    "    num_vely_temp = num_vely_arr[-1] + (gravity * time_step)\n",
    "    num_posx_temp = num_posx_arr[-1] + num_velx_temp * time_step\n",
    "    num_posy_temp = num_posy_arr[-1] + num_vely_temp * time_step\n",
    "    #print(\"Cur Pos\" + str(num_posy_temp))\n",
    "    stp_age = num_posy_temp\n",
    "    if (num_posy_temp >= 0) :\n",
    "        time_arr.append(temp_time)\n",
    "        num_velx_arr.append(num_velx_temp)\n",
    "        num_vely_arr.append(num_vely_temp)\n",
    "        num_posx_arr.append(num_posx_temp)\n",
    "        num_posy_arr.append(num_posy_temp)\n",
    "\n",
    "    #print(time_arr)\n",
    "    #print(num_posy_arr)\n"
   ]
  },
  {
   "cell_type": "code",
   "execution_count": 5,
   "metadata": {},
   "outputs": [
    {
     "name": "stdout",
     "output_type": "stream",
     "text": [
      "Analitik ...\n"
     ]
    }
   ],
   "source": [
    "print (\"Analitik ...\")\n",
    "\n",
    "# init pos, [x,y]\n",
    "ana_posx_arr = [starting_pos[0]]\n",
    "ana_posy_arr = [starting_pos[-1]]\n",
    "\n",
    "\n",
    "for tm in time_arr: \n",
    "    ana_posx_arr.append(starting_vel * math.cos(convert2Radian(30))*tm)\n",
    "    ana_posy_arr.append((starting_vel * math.sin(convert2Radian(30))*tm) + (0.5 * gravity * (tm ** 2)))\n",
    "  "
   ]
  },
  {
   "cell_type": "code",
   "execution_count": 6,
   "metadata": {},
   "outputs": [],
   "source": [
    "def animateSim(file_name, posx_arr, posy_arr, time_arr, **kwargs) :\n",
    "    if kwargs != None :\n",
    "        num_velx_arr2 = kwargs.get('num_velx_arr')\n",
    "        num_vely_arr2 = kwargs.get('num_vely_arr')\n",
    "    \n",
    "    fig = plt.figure()\n",
    "    #plt.ylim(0, 100)\n",
    "    ax1 = fig.add_subplot(1,1,1)\n",
    "    #ax1.ylim(0, 100)\n",
    "    def animate(i):\n",
    "        xs = posx_arr\n",
    "        ys = posy_arr\n",
    "        temp_x = []\n",
    "        temp_y = []\n",
    "        ax1.clear()\n",
    "        for i in range(0, len(xs)) :\n",
    "            temp_x.append(xs[i])\n",
    "            temp_y.append(ys[i])\n",
    "            ax1.clear()\n",
    "            for j in range(0, len(temp_x)):\n",
    "                ax1.plot(temp_x, temp_y, color='green')\n",
    "            \n",
    "    \n",
    "    #ani = animation.FuncAnimation(fig, animate, interval=1000)\n",
    "    # call the animator     \n",
    "    anim = animation.FuncAnimation(fig, animate, interval=20) \n",
    "\n",
    "    # save the animation as mp4 video file \n",
    "    anim.save('%s.mp4' % file_name , writer = 'ffmpeg', fps = 120)\n",
    "    \n",
    "    plt.show()"
   ]
  },
  {
   "cell_type": "code",
   "execution_count": 7,
   "metadata": {},
   "outputs": [
    {
     "data": {
      "image/png": "[encoded data removed]",
      "text/plain": [
       "<Figure size 432x288 with 1 Axes>"
      ]
     },
     "metadata": {
      "needs_background": "light"
     },
     "output_type": "display_data"
    }
   ],
   "source": [
    "# draw plot\n",
    "#drawPlot()\n",
    "animateSim(\"gp_2\",num_posx_arr, num_posy_arr, time_arr, num_velx_arr=num_velx_arr, num_vely_arr=num_vely_arr)"
   ]
  }
 ],
 "metadata": {
  "kernelspec": {
   "display_name": "Python 3",
   "language": "python",
   "name": "python3"
  },
  "language_info": {
   "codemirror_mode": {
    "name": "ipython",
    "version": 3
   },
   "file_extension": ".py",
   "mimetype": "text/x-python",
   "name": "python",
   "nbconvert_exporter": "python",
   "pygments_lexer": "ipython3",
   "version": "3.7.4"
  }
 },
 "nbformat": 4,
 "nbformat_minor": 2
}
