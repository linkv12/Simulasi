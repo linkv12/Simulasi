{
 "cells": [
  {
   "cell_type": "code",
   "execution_count": 1,
   "metadata": {},
   "outputs": [],
   "source": [
    "import numpy as np\n",
    "import math\n",
    "import json\n",
    "import matplotlib.pyplot as plt\n",
    "import matplotlib.animation as animation\n",
    "import os\n",
    "import cv2"
   ]
  },
  {
   "cell_type": "markdown",
   "metadata": {},
   "source": [
    "Untuk jupyter local, butuh cv2(open cv)"
   ]
  },
  {
   "cell_type": "code",
   "execution_count": 2,
   "metadata": {},
   "outputs": [],
   "source": [
    "#pip install opencv-python"
   ]
  },
  {
   "cell_type": "code",
   "execution_count": 3,
   "metadata": {},
   "outputs": [],
   "source": [
    "# obselete\n",
    "def wrapDataSim1(data):\n",
    "    return {'time':data[0], 'numerik_x_velocity':data[1], 'numerik_y_velocity':data[2],\n",
    "            'numerik_x_pos':data[3], 'numerik_y_pos':data[4],\n",
    "            'analitik_x_velocity':data[5], 'analitik_y_velocity':data[6],\n",
    "            'analitik_x_pos':data[7], 'analitik_y_pos':data[8]}"
   ]
  },
  {
   "cell_type": "code",
   "execution_count": 4,
   "metadata": {},
   "outputs": [],
   "source": [
    "# inisialisasi part 1\n",
    "# 9 column\n",
    "\n",
    "\n",
    "# kecepatan awal\n",
    "startingVelocity = 50\n",
    "# timeStep\n",
    "timeStep = 0.01\n",
    "gravity = -9.806\n",
    "# sudeut awal\n",
    "angle = 35 # degree \n",
    "\n",
    "# obselete\n",
    "simul1Data = []\n",
    "\n",
    "\n",
    "# ini numerik array dari posisi x & y\n",
    "# time -> waktunya\n",
    "num_posy_arr = [0]\n",
    "num_posx_arr = [0]\n",
    "time_arr = [0]\n",
    "# ini numerik array dari velocity x & y\n",
    "num_vely_arr = [(startingVelocity *  math.sin(math.radians(angle)))]\n",
    "num_velx_arr = [(startingVelocity *  math.cos(math.radians(angle)))]\n",
    "\n",
    "# ini analitik array, x & y\n",
    "ana_posy_arr = [0]\n",
    "ana_posx_arr = [0]\n"
   ]
  },
  {
   "cell_type": "code",
   "execution_count": 5,
   "metadata": {},
   "outputs": [],
   "source": [
    "# simulasi part 1\n",
    "# no air resistance, analitik-numerik \n",
    "\n",
    "# stop\n",
    "stop = False\n",
    "\n",
    "# perulangan\n",
    "while not stop :\n",
    "    # simpen temp variable, velocity & pos\n",
    "    # numerik\n",
    "    # sesuai rumus\n",
    "    temp_velx = num_velx_arr[-1]\n",
    "    temp_vely = num_vely_arr[-1] + gravity * timeStep\n",
    "    temp_posx = num_posx_arr[-1] + temp_velx * timeStep\n",
    "    temp_posy = num_posy_arr[-1] + temp_vely * timeStep\n",
    "\n",
    "    # cek posisi temp y > 0\n",
    "    if temp_posy >= 0 :\n",
    "        # masukin ke array\n",
    "        # data valid\n",
    "        num_velx_arr.append(temp_velx)\n",
    "        num_vely_arr.append(temp_vely)\n",
    "        num_posx_arr.append(temp_posx)\n",
    "        num_posy_arr.append(temp_posy)\n",
    "        time_arr.append(time_arr[-1] + timeStep)\n",
    "    else :\n",
    "        # y < 0\n",
    "        # stop\n",
    "        stop = True   \n",
    "\n",
    "# hitung analitik\n",
    "for time in time_arr :\n",
    "    # sesuai rumus\n",
    "    ana_posy_arr.append(ana_posy_arr[0] + startingVelocity *  math.sin(math.radians(angle))*time + (0.5 * gravity * time ** 2))\n",
    "    ana_posx_arr.append(ana_posx_arr[0] + startingVelocity *  math.cos(math.radians(angle))*time)"
   ]
  },
  {
   "cell_type": "code",
   "execution_count": 6,
   "metadata": {},
   "outputs": [],
   "source": [
    "# validasi\n",
    "# cek waktu\n",
    "# rumus\n",
    "ana_time =  -2* (startingVelocity *  math.sin(math.radians(angle))) / gravity\n",
    "num_time = time_arr[-1]\n",
    "\n",
    "# cek jarak\n",
    "# rumus\n",
    "ana_range = startingVelocity *  math.cos(math.radians(angle)) * ana_time\n",
    "num_range = num_posx_arr[-1]"
   ]
  },
  {
   "cell_type": "code",
   "execution_count": 7,
   "metadata": {},
   "outputs": [],
   "source": [
    "# gambar plot\n",
    "def drawPlot(list1, list2) :\n",
    "    plt.style.use('seaborn-white')\n",
    "    plt.plot(list1[0], list1[1], color=\"green\", label=list1[-1])\n",
    "    plt.plot(list2[0], list2[1], color=\"orange\", label=list2[-1])\n",
    "    max_x = max([max(list1[0]), max(list2[0])])\n",
    "    max_y = max([max(list1[1]), max(list2[1])])\n",
    "    min_x = min([min(list1[0]), min(list2[0])])\n",
    "    min_y = min([min(list1[1]), min(list2[1])])\n",
    "    plt.xlim(min_x,max_x+10)\n",
    "    plt.ylim(min_y,max_y+4)\n",
    "    plt.xlabel('X', fontsize=18)\n",
    "    plt.ylabel('Y', fontsize=16)\n",
    "    plt.legend()\n",
    "    plt.show()\n",
    "    plt.close('all')"
   ]
  },
  {
   "cell_type": "code",
   "execution_count": 8,
   "metadata": {},
   "outputs": [
    {
     "name": "stdout",
     "output_type": "stream",
     "text": [
      "Simulasi 1, Validasi\n",
      "Total Waktu - Analitik , Numerik\n",
      "5.84923961198293 , 5.82999999999992\n",
      "Total Range - Analitik , Numerik\n",
      "239.5708292845983 , 238.7828209102435\n"
     ]
    },
    {
     "data": {
      "image/png": "[encoded data removed]",
      "text/plain": [
       "<Figure size 432x288 with 1 Axes>"
      ]
     },
     "metadata": {},
     "output_type": "display_data"
    }
   ],
   "source": [
    "print('Simulasi 1, Validasi')\n",
    "print(\"Total Waktu - Analitik , Numerik\\n%s , %s\" % (ana_time, num_time))\n",
    "print(\"Total Range - Analitik , Numerik\\n%s , %s\" % (ana_range, num_range))\n",
    "drawPlot([num_posx_arr, num_posy_arr, 'numerik'], [ana_posx_arr, ana_posy_arr, 'analitik'])"
   ]
  },
  {
   "cell_type": "code",
   "execution_count": 9,
   "metadata": {},
   "outputs": [],
   "source": [
    "# inisialisasi part 2\n",
    "# waktu\n",
    "time_arr_sim2 = [0]\n",
    "\n",
    "# posisi numerik x & y -> air resistance \n",
    "num_posy_arr_sim2 = [0]\n",
    "num_posx_arr_sim2 = [0]\n",
    "gravity = -9.806\n",
    "\n",
    "\n",
    "# D\n",
    "constantD = 0.0013\n",
    "# m\n",
    "mass = 0.15\n",
    "\n",
    "# kecepatan x,y -> air resistance\n",
    "num_vely_arr_sim2 = [(startingVelocity *  math.sin(math.radians(angle)))]\n",
    "num_velx_arr_sim2 = [(startingVelocity *  math.cos(math.radians(angle)))]\n"
   ]
  },
  {
   "cell_type": "code",
   "execution_count": 10,
   "metadata": {},
   "outputs": [],
   "source": [
    "# simulasi part 2\n",
    "# air resistance, analitik-numerik \n",
    "\n",
    "# stop\n",
    "stop = False\n",
    "\n",
    "# perulangan\n",
    "while not stop :\n",
    "    # rumus nentuin ax\n",
    "    viva = math.sqrt((num_velx_arr_sim2[-1] **2) + (num_vely_arr_sim2[-1] ** 2))\n",
    "    ax = -1*((constantD/mass)*viva*num_velx_arr_sim2[-1])\n",
    "    ay =(gravity)+(-1*(constantD/mass)*viva*num_vely_arr_sim2[-1])\n",
    "    # sesuai rumus\n",
    "    \n",
    "    # simpen temp variable, velocity & pos\n",
    "    # numerik\n",
    "    # sesuai rumus\n",
    "    temp_velx = num_velx_arr_sim2[-1] + (ax * timeStep)\n",
    "    temp_vely = num_vely_arr_sim2[-1] + (ay * timeStep)\n",
    "    temp_posx = num_posx_arr_sim2[-1] + (temp_velx * timeStep)\n",
    "    temp_posy = num_posy_arr_sim2[-1] + (temp_vely * timeStep)\n",
    "    \n",
    "    # cek y > 0\n",
    "    if temp_posy >= 0 :\n",
    "        # masukin data ke array\n",
    "        num_velx_arr_sim2.append(temp_velx)\n",
    "        num_vely_arr_sim2.append(temp_vely)\n",
    "        num_posx_arr_sim2.append(temp_posx)\n",
    "        num_posy_arr_sim2.append(temp_posy)\n",
    "        time_arr_sim2.append(time_arr_sim2[-1] + timeStep)\n",
    "    else :\n",
    "        # y < 0\n",
    "        # stop perulangan \n",
    "        stop = True   "
   ]
  },
  {
   "cell_type": "code",
   "execution_count": 11,
   "metadata": {},
   "outputs": [
    {
     "data": {
      "image/png": "[encoded data removed]",
      "text/plain": [
       "<Figure size 432x288 with 1 Axes>"
      ]
     },
     "metadata": {},
     "output_type": "display_data"
    }
   ],
   "source": [
    "drawPlot([num_posx_arr, num_posy_arr, 'no air resistance'], [num_posx_arr_sim2, num_posy_arr_sim2, 'air resistance'])"
   ]
  },
  {
   "cell_type": "code",
   "execution_count": 12,
   "metadata": {},
   "outputs": [],
   "source": [
    "# no documentation\n",
    "def animate(line1, line2, timeStep=0.01,fps=30,filename='animasi', folder='images') :\n",
    "    # line1 & 2 -> x,y,name\n",
    "    \n",
    "    def save_frame(lineOne, lineTwo,limx, limy, number, absolutePath,timeStep=0.01,picturename='frame', extension='png'):\n",
    "        fig = plt.figure()\n",
    "        ax =  plt.subplot(111)\n",
    "        ax.plot(lineOne[0], lineOne[1], color=\"grey\", label=lineOne[-1])\n",
    "        ax.plot(lineTwo[0], lineTwo[1], color=\"blue\", label=lineTwo[-1])\n",
    "        ax.plot([0],[0], color=\"purple\", label='time : {0:.3f}s'.format(number * timeStep))\n",
    "        \n",
    "        plt.xlim(limx[0]-3,limx[-1]+3)\n",
    "        plt.ylim(limy[0],limy[-1]+8)\n",
    "        plt.xlabel('X', fontsize=18)\n",
    "        plt.ylabel('Y', fontsize=16)\n",
    "        ax.legend(loc=\"upper left\")\n",
    "        file_name = '{0}_{1}.{2}'.format(picturename, number, extension)\n",
    "        # escape cahracter windows\n",
    "        abs_filepath = absolutePath + '\\\\' + file_name\n",
    "        fig.savefig(abs_filepath)\n",
    "        plt.close('all')\n",
    "        \n",
    "        return abs_filepath\n",
    "    \n",
    "    \n",
    "    ##############\n",
    "    absPath = os.getcwd()+'\\\\'+folder\n",
    "    if not os.path.exists(absPath) :\n",
    "        try :\n",
    "            os.mkdir(absPath)\n",
    "        except TypeError :\n",
    "            print('Already Exist')\n",
    "    \n",
    "    \n",
    "    \n",
    "    limx = [min([min(line1[0]), min(line2[0])]), max([max(line1[0]), max(line2[0])])]   \n",
    "    limy = [min([min(line1[1]), min(line2[1])]), max([max(line1[1]), max(line2[1])])]\n",
    "    total_frame = len(line1[1])\n",
    "    frame_list = []\n",
    "    \n",
    "    for num in range(1, total_frame) :\n",
    "        if num > len(line1[1]) :\n",
    "            lim_lineOne = len(line1[1])\n",
    "        else :\n",
    "            lim_lineOne = num\n",
    "                                         \n",
    "        if num > len(line2[1]) :\n",
    "            lim_lineTwo = len(line2[1])\n",
    "        else :\n",
    "            lim_lineTwo = num                                                     \n",
    "        frame_list.append(save_frame([line1[0][:lim_lineOne], line1[1][:lim_lineOne], line1[-1]],\n",
    "                                     [line2[0][:lim_lineTwo], line2[1][:lim_lineTwo], line2[-1]],\n",
    "                                     limx, limy,\n",
    "                                     num-1, absPath, timeStep=timeStep\n",
    "                                    ))\n",
    "        \n",
    "        \n",
    "    ## ulangi frame terakhir 50x\n",
    "    for i in range(0,50):\n",
    "        frame_list.append(frame_list[-1])\n",
    "    \n",
    "    \n",
    "    ### part to animate using cv2\n",
    "    # https://stackoverflow.com/questions/44947505/how-to-make-a-movie-out-of-images-in-python\n",
    "    video_name = filename+'.mp4'\n",
    "\n",
    "    frame = cv2.imread(frame_list[0])\n",
    "    height, width, layers = frame.shape\n",
    "\n",
    "    video = cv2.VideoWriter(video_name, 0,  fps, (width,height))\n",
    "\n",
    "    for image in frame_list:\n",
    "        video.write(cv2.imread(image))\n",
    "\n",
    "    cv2.destroyAllWindows()\n",
    "    video.release()\n",
    "    \n",
    "    \n",
    "    \n",
    "    \n",
    "    ####\n",
    "    #x = input('Press Enter to delete temp file ...')\n",
    "    for pat in frame_list :\n",
    "        if os.path.isfile(pat) :\n",
    "            os.remove(pat)       \n",
    "    os.rmdir(absPath)\n",
    "    \n",
    "    print('Done file : {}'.format(video_name))\n",
    "    "
   ]
  },
  {
   "cell_type": "code",
   "execution_count": 13,
   "metadata": {},
   "outputs": [
    {
     "name": "stdout",
     "output_type": "stream",
     "text": [
      "Done file : animasi.mp4\n"
     ]
    }
   ],
   "source": [
    "animate(line1=[num_posx_arr, num_posy_arr, 'no air resistance'], line2=[num_posx_arr_sim2, num_posy_arr_sim2, 'air resistance'], timeStep=timeStep, fps=24)"
   ]
  },
  {
   "cell_type": "code",
   "execution_count": 14,
   "metadata": {},
   "outputs": [
    {
     "data": {
      "text/html": [
       "<!--https://stackoverflow.com/questions/18019477/how-can-i-play-a-local-video-in-my-ipython-notebook--!>\n",
       "<video width=\"600\" height=\"480\" controls>\n",
       "  <source src='animasi.mp4' type=\"video/mp4\">\n",
       "</video>\n"
      ],
      "text/plain": [
       "<IPython.core.display.HTML object>"
      ]
     },
     "metadata": {},
     "output_type": "display_data"
    }
   ],
   "source": [
    "%%HTML\n",
    "<!--Magic Cell--!>\n",
    "<!--https://stackoverflow.com/questions/18019477/how-can-i-play-a-local-video-in-my-ipython-notebook--!>\n",
    "<video width=\"600\" height=\"480\" controls>\n",
    "  <source src='animasi.mp4' type=\"video/mp4\">\n",
    "</video>"
   ]
  }
 ],
 "metadata": {
  "kernelspec": {
   "display_name": "Python 3",
   "language": "python",
   "name": "python3"
  },
  "language_info": {
   "codemirror_mode": {
    "name": "ipython",
    "version": 3
   },
   "file_extension": ".py",
   "mimetype": "text/x-python",
   "name": "python",
   "nbconvert_exporter": "python",
   "pygments_lexer": "ipython3",
   "version": "3.7.4"
  }
 },
 "nbformat": 4,
 "nbformat_minor": 2
}
